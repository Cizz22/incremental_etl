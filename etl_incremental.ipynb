{
 "cells": [
  {
   "cell_type": "markdown",
   "metadata": {},
   "source": [
    "### Import Libraries "
   ]
  },
  {
   "cell_type": "code",
   "execution_count": null,
   "metadata": {},
   "outputs": [],
   "source": [
    "import pandas as pd\n",
    "import sqlalchemy as sa\n",
    "import json\n",
    "from datetime import datetime\n",
    "\n",
    "from webdriver_manager.chrome import ChromeDriverManager\n",
    "from selenium import webdriver\n",
    "from selenium.webdriver.common.by import By\n",
    "from selenium.webdriver.chrome.options import Options\n",
    "from selenium.webdriver.chrome.service import Service\n",
    "\n",
    "from creds import creds"
   ]
  },
  {
   "cell_type": "markdown",
   "metadata": {},
   "source": [
    "### Establish Connection to Database"
   ]
  },
  {
   "cell_type": "code",
   "execution_count": null,
   "metadata": {},
   "outputs": [],
   "source": [
    "dest_engine = sa.create_engine(f\"postgresql+psycopg2://{creds['user']}:{creds['pass']}@{creds['host']}:{creds['port']}/{creds['db']}\")"
   ]
  },
  {
   "cell_type": "markdown",
   "metadata": {},
   "source": [
    "### Read Target data from Database"
   ]
  },
  {
   "cell_type": "code",
   "execution_count": null,
   "metadata": {},
   "outputs": [],
   "source": [
    "saham_dest = pd.read_sql_table('saham', dest_engine)\n",
    "saham_dest"
   ]
  },
  {
   "cell_type": "markdown",
   "metadata": {},
   "source": [
    "### Get Source Data"
   ]
  },
  {
   "cell_type": "code",
   "execution_count": null,
   "metadata": {},
   "outputs": [],
   "source": [
    "def get_scrap_data(url):\n",
    "    options = Options()\n",
    "    options.add_argument(\"--headless\")\n",
    "    options.add_argument(\"--window-size=1920x1080\")\n",
    "    user_agent = 'Mozilla/5.0 (X11; Linux x86_64) AppleWebKit/537.36 (KHTML, like Gecko) Chrome/60.0.3112.50 Safari/537.36'\n",
    "    options.add_argument(f'user-agent={user_agent}')\n",
    "    \n",
    "    driver = webdriver.Chrome(service=Service(ChromeDriverManager().install()), options=options)\n",
    "    with driver as browser:\n",
    "        # Menggunakan Selenium untuk membuka website\n",
    "        browser.get(url)\n",
    "        \n",
    "        # Mengambil semua text yang ada di webpage\n",
    "        content = browser.find_element(By.TAG_NAME, \"pre\").text\n",
    "\n",
    "        # Mengubah text ke dalam bentuk json\n",
    "        parsed_json = json.loads(content)\n",
    "        \n",
    "        return parsed_json\n",
    "\n",
    "def getstocklistData():\n",
    "    DaftarSaham = pd.DataFrame()\n",
    "    \n",
    "    URL = 'https://www.idx.co.id/primary/StockData/GetSecuritiesStock?start=0&length=9999&code=&sector=Energy&board=&language=id-id'\n",
    "        \n",
    "    data = get_scrap_data(URL)\n",
    "\n",
    "    # Mengubah json ke dalam bentuk DataFrame\n",
    "    df = pd.DataFrame(data['data'])\n",
    "\n",
    "    # Mengubah format tanggal menjadi datetime\n",
    "    df['ListingDate'] = [datetime.strptime(\n",
    "        x[:10], '%Y-%m-%d') for x in df['ListingDate']]\n",
    "    df['Sector'] = \"Energy\"\n",
    "\n",
    "    DaftarSaham = pd.concat([DaftarSaham, df], ignore_index=True)\n",
    "\n",
    "    # urut berdasarkan kode saham\n",
    "    DaftarSaham = DaftarSaham.sort_values(by='Code').reset_index(drop=True)\n",
    "\n",
    "    \n",
    "    return DaftarSaham\n",
    "\n",
    "saham_source = getstocklistData()\n",
    "saham_source"
   ]
  },
  {
   "cell_type": "markdown",
   "metadata": {},
   "source": [
    "### Get Changes (New & Updated Record)"
   ]
  },
  {
   "cell_type": "code",
   "execution_count": null,
   "metadata": {},
   "outputs": [],
   "source": [
    "#Get all Changes\n",
    "changes = saham_source[~saham_source.apply(tuple, 1).isin(saham_dest.apply(tuple, 1))]\n",
    "changes"
   ]
  },
  {
   "cell_type": "code",
   "execution_count": null,
   "metadata": {},
   "outputs": [],
   "source": [
    "#Get modified rows\n",
    "modified = changes[changes.Code.isin(saham_dest.Code)]\n",
    "modified"
   ]
  },
  {
   "cell_type": "code",
   "execution_count": null,
   "metadata": {},
   "outputs": [],
   "source": [
    "## Get new rows\n",
    "inserts = changes[~changes.Code.isin(saham_dest.Code)]\n",
    "inserts"
   ]
  },
  {
   "cell_type": "markdown",
   "metadata": {},
   "source": [
    "### Insert & Update"
   ]
  },
  {
   "cell_type": "code",
   "execution_count": null,
   "metadata": {
    "tags": []
   },
   "outputs": [],
   "source": [
    "#Insert\n",
    "inserts.to_sql('saham', dest_engine, if_exists='append', index=False)"
   ]
  },
  {
   "cell_type": "code",
   "execution_count": null,
   "metadata": {},
   "outputs": [],
   "source": [
    "#Update\n",
    "def update_to_sql(df, table_name, key_name):\n",
    "    a = []\n",
    "    table = table_name\n",
    "    primary_key = key_name\n",
    "    temp_table = f\"{table_name}_temporary_table\"\n",
    "    for col in df.columns:\n",
    "        if col == primary_key:\n",
    "            continue\n",
    "        a.append(f'\"{col}\"=s.\"{col}\"')\n",
    "    df.to_sql(temp_table, dest_engine, if_exists='replace', index=False)\n",
    "    update_stmt_1 = f'UPDATE public.\"{table}\" f '\n",
    "    update_stmt_2 = \"SET \"\n",
    "    update_stmt_3 = \", \".join(a)\n",
    "    update_stmt_4 = f' FROM public.\"{table}\" t '\n",
    "    update_stmt_5 = f' INNER JOIN (SELECT * FROM public.\"{temp_table}\") AS s ON s.\"{primary_key}\"=t.\"{primary_key}\" '\n",
    "    update_stmt_6 = f' Where f.\"{primary_key}\"=s.\"{primary_key}\" '\n",
    "    update_stmt_7 = update_stmt_1 + update_stmt_2 + update_stmt_3 + update_stmt_4 + update_stmt_5 +  update_stmt_6 +\";\"\n",
    "    print(update_stmt_7)\n",
    "    with dest_engine.begin() as cnx:\n",
    "        cnx.execute(update_stmt_7)\n"
   ]
  },
  {
   "cell_type": "code",
   "execution_count": null,
   "metadata": {},
   "outputs": [],
   "source": [
    "update_to_sql(modified, 'saham', 'Code')"
   ]
  }
 ],
 "metadata": {
  "kernelspec": {
   "display_name": "Python 3.9.13 ('env': venv)",
   "language": "python",
   "name": "python3"
  },
  "language_info": {
   "codemirror_mode": {
    "name": "ipython",
    "version": 3
   },
   "file_extension": ".py",
   "mimetype": "text/x-python",
   "name": "python",
   "nbconvert_exporter": "python",
   "pygments_lexer": "ipython3",
   "version": "3.9.13"
  },
  "orig_nbformat": 4,
  "vscode": {
   "interpreter": {
    "hash": "521131dee84837cf57376ea2eff34b9372a65e992ace276547287e00ae149fae"
   }
  }
 },
 "nbformat": 4,
 "nbformat_minor": 2
}
